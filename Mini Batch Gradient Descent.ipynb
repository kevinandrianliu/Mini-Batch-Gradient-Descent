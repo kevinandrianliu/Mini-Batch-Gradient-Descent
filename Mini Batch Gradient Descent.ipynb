{
 "cells": [
  {
   "cell_type": "code",
   "execution_count": 50,
   "metadata": {},
   "outputs": [],
   "source": [
    "import numpy as np\n",
    "import pandas as pd\n",
    "from math import exp\n",
    "import copy\n",
    "from sklearn import preprocessing"
   ]
  },
  {
   "cell_type": "code",
   "execution_count": 51,
   "metadata": {},
   "outputs": [],
   "source": [
    "# Feed Forward helper methods\n",
    "def sigmoid(value):\n",
    "    return 1.0/(1+exp(value * (-1)))\n",
    "\n",
    "def sigma(arr_weight, arr_input, bias=0):\n",
    "    # Prereq: len(arr_weight) = len(arr_input)\n",
    "    return arr_weight.dot(arr_input.transpose()) + bias\n",
    "\n",
    "\n",
    "# hidden_layer = int (number of hidden layers)\n",
    "# nb_nodes = arr[int] (number of nodes per hidden layer)\n",
    "# len_input_matrix = int (number of features)\n",
    "# Output: List of Matrixes\n",
    "# Method: He initialization\n",
    "# Link: https://towardsdatascience.com/weight-initialization-techniques-in-neural-networks-26c649eb3b78\n",
    "def initialize_weights(hidden_layer, nb_nodes, len_input_matrix):\n",
    "    # nb_nodes = nb_nodes.astype(int) #dicek nanti perlu atau ga\n",
    "    arr_weight_this_batch = list()\n",
    "    for i in range(hidden_layer):\n",
    "        if i==0:\n",
    "            nb_nodes_prev = len_input_matrix\n",
    "        else:\n",
    "            nb_nodes_prev = nb_nodes[i-1]\n",
    "        weight_matrix = np.random.randn(nb_nodes[i], nb_nodes_prev) * np.sqrt(2/(nb_nodes_prev+nb_nodes[i]))\n",
    "        arr_weight_this_batch.append(weight_matrix)\n",
    "    \n",
    "    return arr_weight_this_batch"
   ]
  },
  {
   "cell_type": "code",
   "execution_count": 52,
   "metadata": {},
   "outputs": [],
   "source": [
    "# Backpropagation and Update Weight helper methods\n",
    "def error(feed_forward_output, target_output):\n",
    "    return 0.5*((target_output-feed_forward_output)**2)\n",
    "\n",
    "def propagate_error_output_layer(feed_forward_output, target_output):\n",
    "    return feed_forward_output*(1-feed_forward_output)*(target_output-feed_forward_output)\n",
    "\n",
    "def propagate_error_hidden_layer_neuron(arr_weight_input, arr_neuron_input, arr_weight_output, arr_neuron_output):\n",
    "    #Input here means input in a single neuron, while output means output of a single neuron\n",
    "    #len(arr_weight) = len(arr_input)\n",
    "    sigma_input, sigma_output = sigma(arr_weight_input, arr_neuron_input), sigma(arr_weight_output, arr_neuron_output)\n",
    "    return sigmoid(sigma_input) * (1 - sigmoid(sigma_input)) * sigma_output\n",
    "\n",
    "def update_weight_neuron(weight_prev_prev, weight_prev, nu, alfa, error, output_neuron):\n",
    "    # weight_prev_prev = previous of weight_prev\n",
    "    return weight_prev + weight_prev_prev * alfa + nu*error*output_neuron"
   ]
  },
  {
   "cell_type": "code",
   "execution_count": 53,
   "metadata": {},
   "outputs": [],
   "source": [
    "# input_matrix = matrix[float] (data) (asumsi, kolom terakhir adalah hasil klasifikasi)\n",
    "# hidden_layers = int (number of hidden layers)\n",
    "# nb_nodes = arr[int] (number of nodes per hidden layer)\n",
    "# nu = float (momentum)\n",
    "# alfa = float (learning rate)\n",
    "# epoch = int (number of training loops)\n",
    "# batch_size = int (mini-batch)\n",
    "def mini_batch_gradient_descent(input_matrix, hidden_layer, nb_nodes, nu, alfa, epoch, batch_size=1):\n",
    "    \n",
    "    #transpose-slicing, memisah input dan label\n",
    "    col_width = input_matrix.shape[1]\n",
    "    input_data = (input_matrix.transpose()[0:col_width-1]).transpose()\n",
    "    label_data = (input_matrix.transpose()[col_width-1:col_width]).transpose()\n",
    "    #print(input_data, \"\\n\")\n",
    "    #print(label_data, \"\\n\")\n",
    "    \n",
    "    hidden_layer += 1\n",
    "    nb_nodes.append(1) #as total node in output layer, to simplify \n",
    "    for no_epoch in range(epoch):\n",
    "        if no_epoch == 0:\n",
    "            arr_weight_this_batch = initialize_weights(hidden_layer, nb_nodes, col_width-1)\n",
    "        else:\n",
    "            arr_weight_prev_batch = copy.deepcopy(arr_weight_this_batch) # tracking previous state of weights\n",
    "            \n",
    "        #Feed Forward\n",
    "        for no_input_data in range(len(input_data)):\n",
    "            for no_hidden_layer in range(hidden_layer):\n",
    "                if no_hidden_layer == 0:\n",
    "                    sigma_values = sigma(arr_weight_this_batch[no_hidden_layer], input_data[no_input_data])\n",
    "                else:\n",
    "                    sigma_values = sigma(arr_weight_this_batch[no_hidden_layer], sigma_values)\n",
    "                for no_rows in range(len(sigma_values)):\n",
    "                    sigma_values[no_rows] = sigmoid(sigma_values[no_rows])\n",
    "            #Result of sigma will be array with 1 element only, so it's safe to select like this\n",
    "            error_value = error(sigma_values[0], label_data[no_input_data])[0]\n",
    "            print(\"From data in epoch \" + str(no_epoch) + \" and no_input \" + str(no_input_data) + \" has error \" + str(error_value))\n",
    "            \n",
    "    #return output"
   ]
  },
  {
   "cell_type": "code",
   "execution_count": 54,
   "metadata": {},
   "outputs": [
    {
     "name": "stdout",
     "output_type": "stream",
     "text": [
      "From data in epoch 0 and no_input 0 has error 0.18521368013926492\n",
      "From data in epoch 0 and no_input 1 has error 0.18526387014695794\n",
      "From data in epoch 0 and no_input 2 has error 0.07670933703112001\n",
      "From data in epoch 0 and no_input 3 has error 0.07661315811380462\n",
      "From data in epoch 0 and no_input 4 has error 0.07672835977117001\n",
      "From data in epoch 0 and no_input 5 has error 0.1848870163893673\n",
      "From data in epoch 0 and no_input 6 has error 0.07689856392653237\n",
      "From data in epoch 0 and no_input 7 has error 0.18526377031398822\n",
      "From data in epoch 0 and no_input 8 has error 0.07673214103024296\n",
      "From data in epoch 0 and no_input 9 has error 0.0767091667761752\n",
      "From data in epoch 0 and no_input 10 has error 0.0767051210131538\n",
      "From data in epoch 0 and no_input 11 has error 0.07669899773935059\n",
      "From data in epoch 0 and no_input 12 has error 0.07679211956514906\n",
      "From data in epoch 0 and no_input 13 has error 0.18514253754231016\n",
      "From data in epoch 1 and no_input 0 has error 0.18521368013926492\n",
      "From data in epoch 1 and no_input 1 has error 0.18526387014695794\n",
      "From data in epoch 1 and no_input 2 has error 0.07670933703112001\n",
      "From data in epoch 1 and no_input 3 has error 0.07661315811380462\n",
      "From data in epoch 1 and no_input 4 has error 0.07672835977117001\n",
      "From data in epoch 1 and no_input 5 has error 0.1848870163893673\n",
      "From data in epoch 1 and no_input 6 has error 0.07689856392653237\n",
      "From data in epoch 1 and no_input 7 has error 0.18526377031398822\n",
      "From data in epoch 1 and no_input 8 has error 0.07673214103024296\n",
      "From data in epoch 1 and no_input 9 has error 0.0767091667761752\n",
      "From data in epoch 1 and no_input 10 has error 0.0767051210131538\n",
      "From data in epoch 1 and no_input 11 has error 0.07669899773935059\n",
      "From data in epoch 1 and no_input 12 has error 0.07679211956514906\n",
      "From data in epoch 1 and no_input 13 has error 0.18514253754231016\n"
     ]
    }
   ],
   "source": [
    "# dataset load and preprocess\n",
    "df = pd.read_csv(\"weather.csv\")\n",
    "#print(df.head, \"\\n\")\n",
    "\n",
    "# transform non-numeric data to numeric data (boolean type is already 0 and 1)\n",
    "encoder = preprocessing.LabelEncoder()\n",
    "df[\"outlook\"] = encoder.fit_transform(df[\"outlook\"])\n",
    "df[\"play\"] = encoder.fit_transform(df[\"play\"])\n",
    "#print(df.head, \"\\n\")\n",
    "\n",
    "#scaling\n",
    "from sklearn.preprocessing import MinMaxScaler\n",
    "scaler = MinMaxScaler() #feature_range=(0,1) (min_val, max_val)\n",
    "data_matrix = scaler.fit_transform(df) # di tahap ini, data sudah menjadi numpy array\n",
    "#print(data_matrix, \"\\n\")\n",
    "\n",
    "result = mini_batch_gradient_descent(data_matrix, 3, [2,3,4], 0.1 ,0.4, 2)"
   ]
  },
  {
   "cell_type": "code",
   "execution_count": 55,
   "metadata": {},
   "outputs": [
    {
     "name": "stdout",
     "output_type": "stream",
     "text": [
      "[3, 4]\n",
      "[3, 4, 5]\n"
     ]
    }
   ],
   "source": [
    "a = list()\n",
    "a.append(3)\n",
    "a.append(4)\n",
    "b = copy.deepcopy(a)\n",
    "a.append(5)\n",
    "print(b)\n",
    "print(a)"
   ]
  },
  {
   "cell_type": "code",
   "execution_count": null,
   "metadata": {},
   "outputs": [],
   "source": []
  }
 ],
 "metadata": {
  "kernelspec": {
   "display_name": "Python 3",
   "language": "python",
   "name": "python3"
  },
  "language_info": {
   "codemirror_mode": {
    "name": "ipython",
    "version": 3
   },
   "file_extension": ".py",
   "mimetype": "text/x-python",
   "name": "python",
   "nbconvert_exporter": "python",
   "pygments_lexer": "ipython3",
   "version": "3.7.3"
  }
 },
 "nbformat": 4,
 "nbformat_minor": 2
}
