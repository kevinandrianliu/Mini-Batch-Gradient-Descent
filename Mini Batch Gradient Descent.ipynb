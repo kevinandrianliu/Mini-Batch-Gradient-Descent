{
 "cells": [
  {
   "cell_type": "code",
   "execution_count": 1,
   "metadata": {},
   "outputs": [],
   "source": [
    "import numpy as np\n",
    "import pandas as pd\n",
    "from math import exp\n",
    "from sklearn import preprocessing"
   ]
  },
  {
   "cell_type": "code",
   "execution_count": 2,
   "metadata": {},
   "outputs": [],
   "source": [
    "# Feed Forward helper methods\n",
    "def sigmoid(value):\n",
    "    return 1.0/(1+exp(value * (-1)))\n",
    "\n",
    "def sigma(arr_weight, arr_input, bias=0):\n",
    "    # Prereq: len(arr_weight) = len(arr_input)\n",
    "    return arr_weight.dot(arr_input.transpose()) + bias\n",
    "\n",
    "\n",
    "# hidden_layer = int (number of hidden layers)\n",
    "# nb_nodes = arr[int] (number of nodes per hidden layer)\n",
    "# len_input_matrix = int (number of features)\n",
    "# Output: List of Matrixes\n",
    "# Method: He initialization\n",
    "# Link: https://towardsdatascience.com/weight-initialization-techniques-in-neural-networks-26c649eb3b78\n",
    "def initialize_weights(hidden_layer, nb_nodes, len_input_matrix):\n",
    "    #nb_nodes contains 1 node in output layer also\n",
    "    arr_weight_this_batch = np.empty(hidden_layer+1, dtype=\"object\")\n",
    "    no_hidden_layer = 0\n",
    "    while no_hidden_layer < hidden_layer+1:\n",
    "        if no_hidden_layer==0:\n",
    "            nb_nodes_prev = len_input_matrix\n",
    "        else:\n",
    "            nb_nodes_prev = nb_nodes[no_hidden_layer-1]\n",
    "        weight_matrix = np.random.randn(nb_nodes[no_hidden_layer], nb_nodes_prev) * np.sqrt(2/(nb_nodes_prev+nb_nodes[no_hidden_layer]))\n",
    "        arr_weight_this_batch[no_hidden_layer] = weight_matrix\n",
    "        no_hidden_layer += 1\n",
    "    return arr_weight_this_batch"
   ]
  },
  {
   "cell_type": "code",
   "execution_count": 3,
   "metadata": {},
   "outputs": [],
   "source": [
    "# Backpropagation and Update Weight helper methods\n",
    "def error(feed_forward_output, target_output):\n",
    "    return 0.5*((target_output-feed_forward_output)**2)\n",
    "\n",
    "def propagate_error_output_layer(feed_forward_output, target_output):\n",
    "    return feed_forward_output*(1-feed_forward_output)*(target_output-feed_forward_output)\n",
    "\n",
    "def propagate_error_hidden_layer_neuron(arr_weight_input, arr_neuron_input, arr_weight_output, arr_neuron_output):\n",
    "    #Input here means input in a single neuron, while output means output of a single neuron\n",
    "    #len(arr_weight) = len(arr_input)\n",
    "    sigma_input, sigma_output = sigma(arr_weight_input, arr_neuron_input), sigma(arr_weight_output, arr_neuron_output)\n",
    "    return sigmoid(sigma_input) * (1 - sigmoid(sigma_input)) * sigma_output\n",
    "\n",
    "def update_weight_neuron(weight_prev_prev, weight_prev, nu, alfa, error, output_neuron):\n",
    "    # weight_prev_prev = previous of weight_prev\n",
    "    return weight_prev + weight_prev_prev * alfa + nu*error*output_neuron"
   ]
  },
  {
   "cell_type": "code",
   "execution_count": 4,
   "metadata": {},
   "outputs": [],
   "source": [
    "# input_matrix = matrix[float] (data) (asumsi, kolom terakhir adalah hasil klasifikasi)\n",
    "# hidden_layers = int (number of hidden layers)\n",
    "# nb_nodes = arr[int] (number of nodes per hidden layer)\n",
    "# nu = float (momentum)\n",
    "# alfa = float (learning rate)\n",
    "# epoch = int (number of training loops)\n",
    "# batch_size = int (mini-batch)\n",
    "def mini_batch_gradient_descent(input_matrix, hidden_layer, nb_nodes, nu, alfa, epoch, batch_size=1):\n",
    "    \n",
    "    #transpose-slicing, memisah input dan label\n",
    "    col_width = input_matrix.shape[1]\n",
    "    input_data = (input_matrix.transpose()[0:col_width-1]).transpose()\n",
    "    label_data = (input_matrix.transpose()[col_width-1:col_width]).transpose()\n",
    "    #print(input_data, \"\\n\")\n",
    "    #print(label_data, \"\\n\")\n",
    "    \n",
    "    nb_nodes.append(1) #as total node in output layer, to simplify \n",
    "    arr_weight_all_batches = np.empty(epoch, dtype=\"object\")\n",
    "    for no_epoch in range(epoch):\n",
    "        if no_epoch == 0:\n",
    "            arr_weight_this_batch = initialize_weights(hidden_layer, nb_nodes, col_width-1)\n",
    "        else:\n",
    "            arr_weight_this_batch = initialize_weights(hidden_layer, nb_nodes, col_width-1) # will be erased after back propagation has done\n",
    "            #arr_weights = np.empty(hidden_layer+1, dtype=\"object\") #Must be uncommented after back propagation has done\n",
    "        #Feed Forward\n",
    "        for no_input_data in range(len(input_data)):\n",
    "            no_hidden_layer = 0\n",
    "            while no_hidden_layer < hidden_layer+1:\n",
    "                if no_hidden_layer == 0:\n",
    "                    sigma_values = sigma(arr_weight_this_batch[no_hidden_layer], input_data[no_input_data])\n",
    "                else:\n",
    "                    sigma_values = sigma(arr_weight_this_batch[no_hidden_layer], sigma_values)\n",
    "                for no_rows in range(len(sigma_values)):\n",
    "                    sigma_values[no_rows] = sigmoid(sigma_values[no_rows])\n",
    "                no_hidden_layer += 1\n",
    "            #Result of sigma will be array with 1 element only, so it's safe to select like this\n",
    "            error_value = error(sigma_values[0], label_data[no_input_data])[0]\n",
    "            print(\"From data in epoch \" + str(no_epoch) + \" and no_input \" + str(no_input_data) + \" has error \" + str(error_value))\n",
    "            arr_weight_all_batches[no_epoch] = arr_weight_this_batch\n",
    "    #return output"
   ]
  },
  {
   "cell_type": "code",
   "execution_count": 5,
   "metadata": {},
   "outputs": [
    {
     "name": "stdout",
     "output_type": "stream",
     "text": [
      "From data in epoch 0 and no_input 0 has error 0.21314678086212624\n",
      "From data in epoch 0 and no_input 1 has error 0.21337139556787157\n",
      "From data in epoch 0 and no_input 2 has error 0.05987412110296385\n",
      "From data in epoch 0 and no_input 3 has error 0.06015573808649958\n",
      "From data in epoch 0 and no_input 4 has error 0.05992226967941245\n",
      "From data in epoch 0 and no_input 5 has error 0.2144760336247525\n",
      "From data in epoch 0 and no_input 6 has error 0.059211365416503015\n",
      "From data in epoch 0 and no_input 7 has error 0.21299778561860241\n",
      "From data in epoch 0 and no_input 8 has error 0.059973144501156185\n",
      "From data in epoch 0 and no_input 9 has error 0.05995095479921859\n",
      "From data in epoch 0 and no_input 10 has error 0.05979780903436679\n",
      "From data in epoch 0 and no_input 11 has error 0.05966678766511895\n",
      "From data in epoch 0 and no_input 12 has error 0.059693950602798876\n",
      "From data in epoch 0 and no_input 13 has error 0.21378621667298703\n",
      "From data in epoch 1 and no_input 0 has error 0.28712950171242285\n",
      "From data in epoch 1 and no_input 1 has error 0.28701600982673103\n",
      "From data in epoch 1 and no_input 2 has error 0.03004263493946923\n",
      "From data in epoch 1 and no_input 3 has error 0.029175653492651492\n",
      "From data in epoch 1 and no_input 4 has error 0.02923926346532254\n",
      "From data in epoch 1 and no_input 5 has error 0.28657774165917227\n",
      "From data in epoch 1 and no_input 6 has error 0.02994787689135174\n",
      "From data in epoch 1 and no_input 7 has error 0.28868059136596597\n",
      "From data in epoch 1 and no_input 8 has error 0.02893930203013572\n",
      "From data in epoch 1 and no_input 9 has error 0.029459533750014304\n",
      "From data in epoch 1 and no_input 10 has error 0.02938192882351739\n",
      "From data in epoch 1 and no_input 11 has error 0.02995782036504438\n",
      "From data in epoch 1 and no_input 12 has error 0.03007607129621991\n",
      "From data in epoch 1 and no_input 13 has error 0.28659729175344023\n"
     ]
    },
    {
     "name": "stderr",
     "output_type": "stream",
     "text": [
      "c:\\users\\user\\appdata\\local\\programs\\python\\python36\\lib\\site-packages\\sklearn\\preprocessing\\data.py:334: DataConversionWarning: Data with input dtype bool, int32, int64 were all converted to float64 by MinMaxScaler.\n",
      "  return self.partial_fit(X, y)\n"
     ]
    }
   ],
   "source": [
    "# dataset load and preprocess\n",
    "df = pd.read_csv(\"weather.csv\")\n",
    "#print(df.head, \"\\n\")\n",
    "\n",
    "# transform non-numeric data to numeric data (boolean type is already 0 and 1)\n",
    "encoder = preprocessing.LabelEncoder()\n",
    "df[\"outlook\"] = encoder.fit_transform(df[\"outlook\"])\n",
    "df[\"play\"] = encoder.fit_transform(df[\"play\"])\n",
    "#print(df.head, \"\\n\")\n",
    "\n",
    "#scaling\n",
    "from sklearn.preprocessing import MinMaxScaler\n",
    "scaler = MinMaxScaler() #feature_range=(0,1) (min_val, max_val)\n",
    "data_matrix = scaler.fit_transform(df) # di tahap ini, data sudah menjadi numpy array\n",
    "#print(data_matrix, \"\\n\")\n",
    "\n",
    "result = mini_batch_gradient_descent(data_matrix, 3, [2,3,4], 0.1 ,0.4, 2)"
   ]
  },
  {
   "cell_type": "code",
   "execution_count": null,
   "metadata": {},
   "outputs": [],
   "source": []
  }
 ],
 "metadata": {
  "kernelspec": {
   "display_name": "Python 3",
   "language": "python",
   "name": "python3"
  },
  "language_info": {
   "codemirror_mode": {
    "name": "ipython",
    "version": 3
   },
   "file_extension": ".py",
   "mimetype": "text/x-python",
   "name": "python",
   "nbconvert_exporter": "python",
   "pygments_lexer": "ipython3",
   "version": "3.6.8"
  }
 },
 "nbformat": 4,
 "nbformat_minor": 2
}
