{
 "cells": [
  {
   "cell_type": "code",
   "execution_count": 87,
   "metadata": {},
   "outputs": [],
   "source": [
    "import numpy as np\n",
    "import pandas as pd\n",
    "from math import exp\n",
    "from sklearn import preprocessing"
   ]
  },
  {
   "cell_type": "code",
   "execution_count": 88,
   "metadata": {},
   "outputs": [],
   "source": [
    "# sure working functions\n",
    "def sigmoid(value):\n",
    "    return 1.0/(1+exp(value * (-1)))\n",
    "\n",
    "def sigma(arr_weight, arr_input, bias=0):\n",
    "    # Prereq: len(arr_weight) = len(arr_input)\n",
    "    return arr_weight.dot(arr_input.transpose()) + bias\n",
    "\n",
    "# hidden_layer = int (number of hidden layers)\n",
    "# nb_nodes = arr[int] (number of nodes per hidden layer)\n",
    "# len_input_matrix = int (number of features)\n",
    "# Output: List of Matrixes\n",
    "# Method: He initialization\n",
    "# Link: https://towardsdatascience.com/weight-initialization-techniques-in-neural-networks-26c649eb3b78\n",
    "def initialize_weights(hidden_layer, nb_nodes, len_input_matrix):\n",
    "    #nb_nodes contains 1 node in output layer also\n",
    "    arr_weights = np.empty(hidden_layer+1, dtype=\"object\")\n",
    "    no_hidden_layer = 0\n",
    "    while no_hidden_layer < hidden_layer+1:\n",
    "        if no_hidden_layer==0:\n",
    "            nb_nodes_prev = len_input_matrix\n",
    "        else:\n",
    "            nb_nodes_prev = nb_nodes[no_hidden_layer-1]\n",
    "        weight_matrix = np.random.randn(nb_nodes[no_hidden_layer], nb_nodes_prev) * np.sqrt(2/(nb_nodes_prev+nb_nodes[no_hidden_layer]))\n",
    "        arr_weights[no_hidden_layer] = weight_matrix\n",
    "        no_hidden_layer += 1\n",
    "    return arr_weights"
   ]
  },
  {
   "cell_type": "code",
   "execution_count": null,
   "metadata": {},
   "outputs": [],
   "source": []
  },
  {
   "cell_type": "code",
   "execution_count": 89,
   "metadata": {},
   "outputs": [],
   "source": [
    "# functions in progress\n",
    "def error(feed_forward_output, target_output):\n",
    "    return 0.5*((target_output-feed_forward_output)**2)\n",
    "\n",
    "def propagate_error_output_layer(feed_forward_output, target_output):\n",
    "    return feed_forward_output*(1-feed_forward_output)*(target_output-feed_forward_output)\n",
    "\n",
    "def propagate_error_hidden_layer_neuron(arr_weight_input, arr_neuron_input, arr_weight_output, arr_neuron_output):\n",
    "    #Input here means input in a single neuron, while output means output of a single neuron\n",
    "    #len(arr_weight) = len(arr_input)\n",
    "    sigma_input, sigma_output = sigma(arr_weight_input, arr_neuron_input), sigma(arr_weight_output, arr_neuron_output)\n",
    "    return sigmoid(sigma_input) * (1 - sigmoid(sigma_input)) * sigma_output\n",
    "\n",
    "def update_weight_neuron(weight_prev_prev, weight_prev, nu, alfa, error, output_neuron):\n",
    "    # weight_prev_prev = previous of weight_prev\n",
    "    return weight_prev + weight_prev_prev * alfa + nu*error*output_neuron"
   ]
  },
  {
   "cell_type": "code",
   "execution_count": 90,
   "metadata": {},
   "outputs": [],
   "source": [
    "# input_matrix = matrix[float] (data) (asumsi, kolom terakhir adalah hasil klasifikasi)\n",
    "# hidden_layers = int (number of hidden layers)\n",
    "# nb_nodes = arr[int] (number of nodes per hidden layer)\n",
    "# nu = float (momentum)\n",
    "# alfa = float (learning rate)\n",
    "# epoch = int (number of training loops)\n",
    "# batch_size = int (mini-batch)\n",
    "def mini_batch_gradient_descent(input_matrix, hidden_layer, nb_nodes, nu, alfa, epoch, batch_size=1):\n",
    "    \n",
    "    #transpose-slicing, memisah input dan label\n",
    "    col_width = input_matrix.shape[1]\n",
    "    input_data = (input_matrix.transpose()[0:col_width-1]).transpose()\n",
    "    label_data = (input_matrix.transpose()[col_width-1:col_width]).transpose()\n",
    "    #print(input_data, \"\\n\")\n",
    "    #print(label_data, \"\\n\")\n",
    "    \n",
    "    nb_nodes.append(1) #as total node in output layer, to simplify \n",
    "    array_weights_around_epochs = np.empty(epoch, dtype=\"object\")\n",
    "    for no_epoch in range(epoch):\n",
    "        if no_epoch == 0:\n",
    "            FFNN = initialize_weights(hidden_layer, nb_nodes, col_width-1)\n",
    "        else:\n",
    "            FFNN = initialize_weights(hidden_layer, nb_nodes, col_width-1) # will be erased after back propagation has done\n",
    "            #FFNN = np.empty(hidden_layer+1, dtype=\"object\")\n",
    "        #Feed Forward\n",
    "        for no_input_data in range(len(input_data)):\n",
    "            no_hidden_layer = 0\n",
    "            while no_hidden_layer < hidden_layer+1:\n",
    "                if no_hidden_layer == 0:\n",
    "                    sigma_values = sigma(FFNN[no_hidden_layer], input_data[no_input_data])\n",
    "                else:\n",
    "                    sigma_values = sigma(FFNN[no_hidden_layer], sigma_values)\n",
    "                for no_rows in range(len(sigma_values)):\n",
    "                    sigma_values[no_rows] = sigmoid(sigma_values[no_rows])\n",
    "                no_hidden_layer += 1\n",
    "            #Result of sigma will be array with 1 element only, so it's safe to select like this\n",
    "            print(\"From data in epoch \" + str(no_epoch) + \" and no_input \" + str(no_input_data) + \" has error \" + str(error(sigma_values[0], label_data[no_input_data])[0])) \n",
    "            array_weights_around_epochs[no_epoch] = FFNN\n",
    "    #return output"
   ]
  },
  {
   "cell_type": "code",
   "execution_count": 91,
   "metadata": {},
   "outputs": [
    {
     "name": "stdout",
     "output_type": "stream",
     "text": [
      "[array([[ 0.698582  , -0.25710316, -0.296171  ,  0.01785614]])]\n",
      "From data in epoch 0 and no_input 0 has error 0.15807666764343478\n",
      "From data in epoch 0 and no_input 1 has error 0.1624292231295075\n",
      "From data in epoch 0 and no_input 2 has error 0.18401166262597926\n",
      "From data in epoch 0 and no_input 3 has error 0.12755509382057345\n",
      "From data in epoch 0 and no_input 4 has error 0.10618114703320884\n",
      "From data in epoch 0 and no_input 5 has error 0.16599498007207056\n",
      "From data in epoch 0 and no_input 6 has error 0.12277800536629382\n",
      "From data in epoch 0 and no_input 7 has error 0.16696478684269456\n",
      "From data in epoch 0 and no_input 8 has error 0.06362715618716522\n",
      "From data in epoch 0 and no_input 9 has error 0.11624887709940931\n",
      "From data in epoch 0 and no_input 10 has error 0.06829671182197668\n",
      "From data in epoch 0 and no_input 11 has error 0.16765802452662057\n",
      "From data in epoch 0 and no_input 12 has error 0.16550775480317084\n",
      "From data in epoch 0 and no_input 13 has error 0.12916431588995553\n",
      "From data in epoch 1 and no_input 0 has error 0.37952356433319767\n",
      "From data in epoch 1 and no_input 1 has error 0.4366542491122087\n",
      "From data in epoch 1 and no_input 2 has error 0.03822380767981751\n",
      "From data in epoch 1 and no_input 3 has error 0.020925655684350283\n",
      "From data in epoch 1 and no_input 4 has error 0.04046635467482371\n",
      "From data in epoch 1 and no_input 5 has error 0.31564071155157497\n",
      "From data in epoch 1 and no_input 6 has error 0.05187592673866185\n",
      "From data in epoch 1 and no_input 7 has error 0.3728118115446784\n",
      "From data in epoch 1 and no_input 8 has error 0.028181199768069272\n",
      "From data in epoch 1 and no_input 9 has error 0.03169823409900232\n",
      "From data in epoch 1 and no_input 10 has error 0.006457757651082424\n",
      "From data in epoch 1 and no_input 11 has error 0.015558417437028982\n",
      "From data in epoch 1 and no_input 12 has error 0.05901059900305237\n",
      "From data in epoch 1 and no_input 13 has error 0.38832994353913014\n"
     ]
    },
    {
     "name": "stderr",
     "output_type": "stream",
     "text": [
      "c:\\users\\user\\appdata\\local\\programs\\python\\python36\\lib\\site-packages\\sklearn\\preprocessing\\data.py:334: DataConversionWarning: Data with input dtype bool, int32, int64 were all converted to float64 by MinMaxScaler.\n",
      "  return self.partial_fit(X, y)\n"
     ]
    }
   ],
   "source": [
    "# dataset load and preprocess\n",
    "df = pd.read_csv(\"weather.csv\")\n",
    "#print(df.head, \"\\n\")\n",
    "\n",
    "# transform non-numeric data to numeric data (boolean type is already 0 and 1)\n",
    "encoder = preprocessing.LabelEncoder()\n",
    "df[\"outlook\"] = encoder.fit_transform(df[\"outlook\"])\n",
    "df[\"play\"] = encoder.fit_transform(df[\"play\"])\n",
    "#print(df.head, \"\\n\")\n",
    "\n",
    "#scaling\n",
    "from sklearn.preprocessing import MinMaxScaler\n",
    "scaler = MinMaxScaler() #feature_range=(0,1) (min_val, max_val)\n",
    "data_matrix = scaler.fit_transform(df) # di tahap ini, data sudah menjadi numpy array\n",
    "#print(data_matrix, \"\\n\")\n",
    "\n",
    "result = mini_batch_gradient_descent(data_matrix, 0, [], 0.1 ,0.4, 2)"
   ]
  },
  {
   "cell_type": "code",
   "execution_count": null,
   "metadata": {},
   "outputs": [],
   "source": []
  }
 ],
 "metadata": {
  "kernelspec": {
   "display_name": "Python 3",
   "language": "python",
   "name": "python3"
  },
  "language_info": {
   "codemirror_mode": {
    "name": "ipython",
    "version": 3
   },
   "file_extension": ".py",
   "mimetype": "text/x-python",
   "name": "python",
   "nbconvert_exporter": "python",
   "pygments_lexer": "ipython3",
   "version": "3.6.8"
  }
 },
 "nbformat": 4,
 "nbformat_minor": 2
}
