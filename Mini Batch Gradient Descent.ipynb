{
 "cells": [
  {
   "cell_type": "code",
   "execution_count": 2,
   "metadata": {},
   "outputs": [],
   "source": [
    "import numpy as np\n",
    "import pandas as pd\n",
    "from math import exp"
   ]
  },
  {
   "cell_type": "code",
   "execution_count": 3,
   "metadata": {},
   "outputs": [],
   "source": [
    "# sure working functions\n",
    "def sigmoid(value):\n",
    "    return 1.0/(1+exp(value * (-1)))\n",
    "\n",
    "def sigma(arr_weight, arr_input, bias=0):\n",
    "    #len(arr_weight) = len(arr_input)\n",
    "    return arr_weight.dot(arr_input.transpose())[0] + bias\n",
    "\n",
    "# hidden_layer = int (number of hidden layers)\n",
    "# nb_nodes = arr[int] (number of nodes per hidden layer)\n",
    "# len_input_matrix = int (number of features)\n",
    "# Output: List of Matrixes\n",
    "# Method: He initialization\n",
    "# Link: https://towardsdatascience.com/weight-initialization-techniques-in-neural-networks-26c649eb3b78\n",
    "def initialize_weights(hidden_layer, nb_nodes, len_input_matrix):\n",
    "    arr_weights = list()\n",
    "    for i in range(hidden_layer):\n",
    "        if i==0:\n",
    "            nb_nodes_prev = len_input_matrix\n",
    "        else:\n",
    "            nb_nodes_prev = nb_nodes[i-1]\n",
    "        weight_matrix = np.random.randn(nb_nodes[i], nb_nodes_prev) * np.sqrt(2/(nb_nodes_prev+nb_nodes[i]))\n",
    "        arr_weights.append(weight_matrix)\n",
    "    return arr_weights"
   ]
  },
  {
   "cell_type": "code",
   "execution_count": 4,
   "metadata": {},
   "outputs": [],
   "source": [
    "# functions in progress\n",
    "def error(feed_forward_output, target_output):\n",
    "    return 0.5*((target_output-feed_forward_output)**2)\n",
    "\n",
    "def propagate_error_output_layer(feed_forward_output, target_output):\n",
    "    return feed_forward_output*(1-feed_forward_output)*(target_output-feed_forward_output)\n",
    "\n",
    "def propagate_error_hidden_layer_neuron(arr_weight_input, arr_neuron_input, arr_weight_output, arr_neuron_output):\n",
    "    #Input here means input in a single neuron, while output means output of a single neuron\n",
    "    #len(arr_weight) = len(arr_input)\n",
    "    sigma_input, sigma_output = sigma(arr_weight_input, arr_neuron_input), sigma(arr_weight_output, arr_neuron_output)\n",
    "    return sigmoid(sigma_input) * (1 - sigmoid(sigma_input)) * sigma_output\n",
    "\n",
    "def update_weight_neuron(weight_prev_prev, weight_prev, nu, alfa, error, output_neuron):\n",
    "    # weight_prev_prev = previous of weight_prev\n",
    "    return weight_prev + weight_prev_prev * alfa + nu*error*output_neuron"
   ]
  },
  {
   "cell_type": "code",
   "execution_count": 46,
   "metadata": {},
   "outputs": [],
   "source": [
    "# input_matrix = matrix[float] (data) (asumsi, kolom terakhir adalah hasil klasifikasi)\n",
    "# hidden_layers = int (number of hidden layers)\n",
    "# nb_nodes = arr[int] (number of nodes per hidden layer)\n",
    "# nu = float (momentum)\n",
    "# alfa = float (learning rate)\n",
    "# epoch = int (number of training loops)\n",
    "# batch_size = int (mini-batch)\n",
    "def mini_batch_gradient_descent(input_matrix, hidden_layer, nb_nodes, nu, alfa, epoch, batch_size=1):\n",
    "    \n",
    "    #transpose-slicing, memisah input dan label\n",
    "    col_width = input_matrix.shape[1]\n",
    "    input_data = (input_matrix.transpose()[0:col_width-1]).transpose()\n",
    "    label_data = (input_matrix.transpose()[col_width-1:col_width]).transpose()\n",
    "    #print(input_data, \"\\n\")\n",
    "    #print(label_data, \"\\n\")\n",
    "    \n",
    "    FFNN = initialize_weights(hidden_layer, nb_nodes, col_width-1)\n",
    "    \n",
    "    for i in range(len(epoch)):\n",
    "        FFNN_prev = FFNN\n",
    "        \n",
    "    return output"
   ]
  },
  {
   "cell_type": "code",
   "execution_count": 43,
   "metadata": {},
   "outputs": [],
   "source": [
    "# dataset load and preprocess\n",
    "df = pd.read_csv(\"weather.csv\")\n",
    "#print(df.head, \"\\n\")\n",
    "\n",
    "# transform non-numeric data to numeric data (boolean type is already 0 and 1)\n",
    "weather_dict = dict([(\"sunny\",0), (\"overcast\",1), (\"rainy\",2)]) # bisa di automasi, tp terlanjur malas\n",
    "label_dict = dict([(\"no\",0), (\"yes\",1)])\n",
    "newdf = df.replace({\"outlook\":weather_dict})\n",
    "newdf = newdf.replace({\"play\":label_dict})\n",
    "#print(newdf.head, \"\\n\")\n",
    "\n",
    "#scaling\n",
    "from sklearn.preprocessing import MinMaxScaler\n",
    "scaler = MinMaxScaler() #feature_range=(0,1) (min_val, max_val)\n",
    "scaler.fit(newdf)\n",
    "data_matrix = scaler.transform(newdf) # di tahap ini, data sudah menjadi numpy array\n",
    "#print(data_matrix, \"\\n\")\n",
    "\n",
    "#result = mini_batch_gradient_descent(data_matrix, 3, [2,3,4], 0.1 ,0.4, 2)"
   ]
  },
  {
   "cell_type": "code",
   "execution_count": 49,
   "metadata": {},
   "outputs": [
    {
     "name": "stdout",
     "output_type": "stream",
     "text": [
      "[[ 0.72397728 -0.18787754  0.05099908 -0.30042582 -0.08220412]\n",
      " [-0.79028059 -0.0181332  -0.40216278  1.13272154 -0.74510839]\n",
      " [ 0.29529642 -0.45053729  0.16456503 -1.17169304 -0.34191728]] \n",
      "\n",
      "[[ 0.06600068 -0.83490396  0.73250927]\n",
      " [ 0.48718237  0.12585565 -0.03581342]\n",
      " [-0.89907174 -0.22755506  0.66923434]\n",
      " [ 0.23108605  0.21587736 -0.70941184]] \n",
      "\n",
      "[[-0.36974717  1.33856951 -0.14157714 -0.16977594]\n",
      " [ 0.91203602 -1.70103224  0.35850359 -1.04529694]] \n",
      "\n"
     ]
    }
   ],
   "source": [
    "#playground\n",
    "\n",
    "#print(np.random.randn(10,9) * np.sqrt(1/9))\n",
    "#x = np.empty((3, 4))\n",
    "#a = np.zeros( (3,4) )\n",
    "#b = np.zeros( (2,3) )\n",
    "#c = np.stack((x,a)) \n",
    "#np.concatenate((c, [a]))\n",
    "#testarr = np.empty((3,4,5))\n",
    "\n",
    "#emptyarr = list()\n",
    "#a = np.random.randn(3, 5) * np.sqrt(2/(5+3))\n",
    "#b = np.random.randn(5, 2) * np.sqrt(2/(5+2))\n",
    "#emptyarr.append(a)\n",
    "#emptyarr.append(b)\n",
    "#print(emptyarr)\n",
    "\n",
    "# main prog testing\n",
    "hidden_layers = 3\n",
    "nb_nodes = [3,4,2]\n",
    "\n",
    "\n",
    "testarr = initialize_weights(3, [3,4,2], 5)\n",
    "for i in range(len(testarr)):\n",
    "    print(testarr[i], '\\n')"
   ]
  },
  {
   "cell_type": "code",
   "execution_count": null,
   "metadata": {},
   "outputs": [],
   "source": []
  }
 ],
 "metadata": {
  "kernelspec": {
   "display_name": "Python 3",
   "language": "python",
   "name": "python3"
  },
  "language_info": {
   "codemirror_mode": {
    "name": "ipython",
    "version": 3
   },
   "file_extension": ".py",
   "mimetype": "text/x-python",
   "name": "python",
   "nbconvert_exporter": "python",
   "pygments_lexer": "ipython3",
   "version": "3.7.3"
  }
 },
 "nbformat": 4,
 "nbformat_minor": 2
}
