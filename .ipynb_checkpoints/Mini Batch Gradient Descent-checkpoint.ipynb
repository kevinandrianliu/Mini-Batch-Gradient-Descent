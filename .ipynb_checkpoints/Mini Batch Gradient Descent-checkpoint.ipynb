{
 "cells": [
  {
   "cell_type": "code",
   "execution_count": 2,
   "metadata": {},
   "outputs": [],
   "source": [
    "import numpy as np\n",
    "import pandas as pd\n",
    "from math import exp"
   ]
  },
  {
   "cell_type": "code",
   "execution_count": 3,
   "metadata": {},
   "outputs": [
    {
     "name": "stdout",
     "output_type": "stream",
     "text": [
      "[[-0.23857641 -0.18589732 -0.03140389 -0.46463615  0.14028233 -0.27900506\n",
      "   0.11676277 -0.10708085  0.24482747]\n",
      " [-0.33083347 -0.64720013  0.48101824 -0.24275454 -0.25660146 -0.0199258\n",
      "  -0.08427318 -0.37793189 -0.48824845]\n",
      " [-0.13250299 -0.02532276  0.11853215  0.02313024  0.042992   -0.20857402\n",
      "  -0.78260761  0.10594029 -0.69454625]\n",
      " [ 0.03346189 -0.31484305 -0.45956217  0.01297505  0.17802638 -0.29332681\n",
      "   0.52973667  0.36623858  0.36478011]\n",
      " [-0.11529164  0.3436899  -0.31214601 -0.01284315  0.07581429 -0.18546745\n",
      "   0.22576578  0.02279664 -0.01603234]\n",
      " [ 0.0952319  -0.15923909 -0.24752666  0.27639717 -0.03187015 -0.24998033\n",
      "   0.08428692 -0.29498291  0.06236019]\n",
      " [-0.03045296  0.30752914 -0.07393531  0.20255769 -0.19910906 -0.29080896\n",
      "   0.11621624 -0.28104072 -0.07548922]\n",
      " [ 0.032068    0.48429006  0.48914615 -0.22379078  0.40270937 -0.13015904\n",
      "   0.30804157 -0.25680748 -0.1625411 ]\n",
      " [ 0.25711908 -0.06512959 -0.06984017  0.18269466 -0.43792357 -0.11404897\n",
      "   0.82880801  0.12475454 -0.28274928]\n",
      " [ 0.03638022  0.74966122 -0.21365632 -0.53820037 -0.58057491 -0.05940221\n",
      "  -0.45096528 -0.71440085  0.25309721]]\n"
     ]
    }
   ],
   "source": [
    "print(np.random.randn(10,9) * np.sqrt(1/9))"
   ]
  },
  {
   "cell_type": "code",
   "execution_count": 21,
   "metadata": {},
   "outputs": [
    {
     "data": {
      "text/plain": [
       "array([[[0., 0., 0., 0.],\n",
       "        [0., 0., 0., 0.],\n",
       "        [0., 0., 0., 0.]],\n",
       "\n",
       "       [[0., 0., 0., 0.],\n",
       "        [0., 0., 0., 0.],\n",
       "        [0., 0., 0., 0.]],\n",
       "\n",
       "       [[0., 0., 0., 0.],\n",
       "        [0., 0., 0., 0.],\n",
       "        [0., 0., 0., 0.]]])"
      ]
     },
     "execution_count": 21,
     "metadata": {},
     "output_type": "execute_result"
    }
   ],
   "source": [
    "x = np.empty((3, 4))\n",
    "a = np.zeros( (3,4) )\n",
    "b = np.zeros( (2,3) )\n",
    "c = np.stack((x,a)) \n",
    "np.concatenate((c, [a]))"
   ]
  },
  {
   "cell_type": "code",
   "execution_count": 31,
   "metadata": {},
   "outputs": [],
   "source": [
    "#-----------------------------\n",
    "# sure working functions\n",
    "def sigmoid(value):\n",
    "    return 1.0/(1+exp(value * (-1)))\n",
    "\n",
    "def sigma(arr_weight, arr_input, bias=1):\n",
    "    #len(arr_weight) = len(arr_input)\n",
    "    return arr_weight.dot(arr_input.transpose())[0] + bias\n",
    "\n",
    "def error(feed_forward_output, target_output):\n",
    "    return 0.5*((target_output-feed_forward_output)**2)\n",
    "\n",
    "def propagate_error_output_layer(feed_forward_output, target_output):\n",
    "    return feed_forward_output*(1-feed_forward_output)*(target_output-feed_forward_output)\n",
    "\n",
    "def propagate_error_hidden_layer_neuron(arr_weight_input, arr_neuron_input, arr_weight_output, arr_neuron_output):\n",
    "    #Input here means input in a single neuron, while output means output of a single neuron\n",
    "    #len(arr_weight) = len(arr_input)\n",
    "    sigma_input, sigma_output = sigma(arr_weight_input, arr_neuron_input), sigma(arr_weight_output, arr_neuron_output)\n",
    "    return sigmoid(sigma_input) * (1 - sigmoid(sigma_input)) * sigma_output\n",
    "\n",
    "def update_weight_neuron(weight_prev_prev, weight_prev, nu, alfa, error, output_neuron):\n",
    "    # weight_prev_prev = previous of weight_prev\n",
    "    return weight_prev + weight_prev_prev * alfa + nu*error*output_neuron\n",
    "\n",
    "#-----------------------------\n",
    "# functions in progress\n",
    "def initialize_weight(hidden_layer, nb_nodes, len_input_matrix):\n",
    "    arr_weights = np.empty(hidden_layer, type=float64)\n",
    "    for i in range(hidden_layer):\n",
    "        # Link: https://towardsdatascience.com/weight-initialization-techniques-in-neural-networks-26c649eb3b78\n",
    "        if i==0:\n",
    "            nb_nodes_prev = len_input_matrix\n",
    "        else:\n",
    "            nb_nodes_prev = nb_nodes[i-1]\n",
    "        weight_matrix = np.random.randn(nb_nodes[i], nb_nodes_prev) * np.sqrt(2/(nb_nodes_prev+nb_nodes[i]))\n",
    "        np.append(arr_weights, weight_matrix, axis=1)\n",
    "    return arr_weights\n",
    "\n",
    "# main code\n",
    "def mini_batch_gradient_descent(input_matrix, hidden_layer, nb_nodes, nu, alfa, epoch, batch_size=1):\n",
    "    return output"
   ]
  },
  {
   "cell_type": "code",
   "execution_count": null,
   "metadata": {},
   "outputs": [],
   "source": []
  }
 ],
 "metadata": {
  "kernelspec": {
   "display_name": "Python 3",
   "language": "python",
   "name": "python3"
  },
  "language_info": {
   "codemirror_mode": {
    "name": "ipython",
    "version": 3
   },
   "file_extension": ".py",
   "mimetype": "text/x-python",
   "name": "python",
   "nbconvert_exporter": "python",
   "pygments_lexer": "ipython3",
   "version": "3.7.3"
  }
 },
 "nbformat": 4,
 "nbformat_minor": 2
}
